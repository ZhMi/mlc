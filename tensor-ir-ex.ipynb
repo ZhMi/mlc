{
 "cells": [
  {
   "cell_type": "code",
   "execution_count": 88,
   "id": "c2d8f6d2",
   "metadata": {},
   "outputs": [],
   "source": [
    "# tensorIR 练习\n",
    "# https://mlc.ai/zh/chapter_tensor_program/tensorir_exercises.html#id1"
   ]
  },
  {
   "cell_type": "code",
   "execution_count": 89,
   "id": "469c5a24",
   "metadata": {},
   "outputs": [],
   "source": [
    "# 练习1：请编写一个 TensorIR 函数，将两个数组以广播的方式相加。"
   ]
  },
  {
   "cell_type": "code",
   "execution_count": 116,
   "id": "71c9c499",
   "metadata": {},
   "outputs": [],
   "source": [
    "import IPython\n",
    "import numpy as np\n",
    "import tvm\n",
    "from tvm.script import tir as T\n",
    "from tvm.ir.module import IRModule"
   ]
  },
  {
   "cell_type": "code",
   "execution_count": 117,
   "id": "617f481b",
   "metadata": {},
   "outputs": [
    {
     "data": {
      "text/plain": [
       "array([[ 4,  4,  4,  4],\n",
       "       [ 8,  8,  8,  8],\n",
       "       [12, 12, 12, 12],\n",
       "       [16, 16, 16, 16]])"
      ]
     },
     "execution_count": 117,
     "metadata": {},
     "output_type": "execute_result"
    }
   ],
   "source": [
    "# init data\n",
    "\n",
    "a = np.arange(16).reshape(4, 4)\n",
    "b = np.arange(4, 0, -1).reshape(4)\n",
    "\n",
    "# numpy version\n",
    "c_np = a + b\n",
    "c_np"
   ]
  },
  {
   "cell_type": "code",
   "execution_count": 118,
   "id": "813b15e1",
   "metadata": {},
   "outputs": [
    {
     "data": {
      "text/plain": [
       "array([[ 4.,  4.,  4.,  4.],\n",
       "       [ 8.,  8.,  8.,  8.],\n",
       "       [12., 12., 12., 12.],\n",
       "       [16., 16., 16., 16.]])"
      ]
     },
     "execution_count": 118,
     "metadata": {},
     "output_type": "execute_result"
    }
   ],
   "source": [
    "# python version\n",
    "def lnumpy_broadcast_add(a: np.ndarray, b: np.ndarray, c: np.ndarray):\n",
    "    for i in range(4):\n",
    "        for j in range(4):\n",
    "            c[i, j] = 0\n",
    "            c[i, j] = a[i, j] + b[j]\n",
    "#test lnumpy_broadcast_add\n",
    "c_lbro_add = np.zeros((4, 4))\n",
    "lnumpy_broadcast_add(a, b, c_lbro_add)\n",
    "c_lbro_add"
   ]
  },
  {
   "cell_type": "code",
   "execution_count": 143,
   "id": "265126ef",
   "metadata": {},
   "outputs": [],
   "source": [
    "#请完成以下 IRModule MyAdd 并运行代码以检查你的实现。\n",
    "@tvm.script.ir_module\n",
    "class MyAdd:\n",
    "  @T.prim_func\n",
    "  def add(A: T.Buffer[(4, 4), \"int64\"],\n",
    "          B: T.Buffer[(4), \"int64\"],\n",
    "          C: T.Buffer[(4, 4), \"int64\"]):\n",
    "    T.func_attr({\"global_symbol\": \"add\", \"tir.noalias\": True})\n",
    "    # TODO\n",
    "    for i, j in T.grid(4, 4):\n",
    "        with T.block(\"C\"):\n",
    "            vi = T.axis.spatial(4, i)\n",
    "            vj = T.axis.spatial(4, j)\n",
    "            C[vi, vj] = A[vi, vj] + B[vj]\n",
    "\n",
    "rt_lib = tvm.build(MyAdd, target=\"llvm\")\n",
    "a_tvm = tvm.nd.array(a)\n",
    "b_tvm = tvm.nd.array(b)\n",
    "c_tvm = tvm.nd.array(np.empty((4, 4), dtype=np.int64))\n",
    "rt_lib[\"add\"](a_tvm, b_tvm, c_tvm)\n",
    "np.testing.assert_allclose(c_tvm.numpy(), c_np, rtol=1e-5)"
   ]
  },
  {
   "cell_type": "code",
   "execution_count": 120,
   "id": "14c8babb",
   "metadata": {},
   "outputs": [],
   "source": [
    "# 练习2：二维卷积\n",
    "# 其中，\n",
    "# A 是输入张量，W 是权重张量，b 是批次索引，k 是输出通道， i 和 j 是图像高度和宽度的索引，di 和 dj 是权重的索引 \n",
    "# q 是输入通道，strides 是过滤器窗口的步幅\n",
    "# 在练习中，我们选择了一个小而简单的情况，即 stride=1, padding=0。"
   ]
  },
  {
   "cell_type": "code",
   "execution_count": 121,
   "id": "53de19f8",
   "metadata": {},
   "outputs": [
    {
     "name": "stdout",
     "output_type": "stream",
     "text": [
      "weight: [[[[ 0  1  2]\n",
      "   [ 3  4  5]\n",
      "   [ 6  7  8]]]\n",
      "\n",
      "\n",
      " [[[ 9 10 11]\n",
      "   [12 13 14]\n",
      "   [15 16 17]]]]\n",
      "data: [[[[ 0  1  2  3  4  5  6  7]\n",
      "   [ 8  9 10 11 12 13 14 15]\n",
      "   [16 17 18 19 20 21 22 23]\n",
      "   [24 25 26 27 28 29 30 31]\n",
      "   [32 33 34 35 36 37 38 39]\n",
      "   [40 41 42 43 44 45 46 47]\n",
      "   [48 49 50 51 52 53 54 55]\n",
      "   [56 57 58 59 60 61 62 63]]]]\n"
     ]
    }
   ],
   "source": [
    "N, CI, H, W, CO, K = 1, 1, 8, 8, 2, 3\n",
    "OUT_H, OUT_W = H - K + 1, W - K + 1\n",
    "# data-shape [1, 1, 8, 8]\n",
    "data = np.arange(N*CI*H*W).reshape(N, CI, H, W)\n",
    "# weight-shape [2, 1, 3, 3]\n",
    "weight = np.arange(CO*CI*K*K).reshape(CO, CI, K, K)\n",
    "print (\"weight:\", weight)\n",
    "print (\"data:\",  data)"
   ]
  },
  {
   "cell_type": "code",
   "execution_count": 122,
   "id": "f2b5c83f",
   "metadata": {},
   "outputs": [
    {
     "data": {
      "text/plain": [
       "array([[[[ 474,  510,  546,  582,  618,  654],\n",
       "         [ 762,  798,  834,  870,  906,  942],\n",
       "         [1050, 1086, 1122, 1158, 1194, 1230],\n",
       "         [1338, 1374, 1410, 1446, 1482, 1518],\n",
       "         [1626, 1662, 1698, 1734, 1770, 1806],\n",
       "         [1914, 1950, 1986, 2022, 2058, 2094]],\n",
       "\n",
       "        [[1203, 1320, 1437, 1554, 1671, 1788],\n",
       "         [2139, 2256, 2373, 2490, 2607, 2724],\n",
       "         [3075, 3192, 3309, 3426, 3543, 3660],\n",
       "         [4011, 4128, 4245, 4362, 4479, 4596],\n",
       "         [4947, 5064, 5181, 5298, 5415, 5532],\n",
       "         [5883, 6000, 6117, 6234, 6351, 6468]]]])"
      ]
     },
     "execution_count": 122,
     "metadata": {},
     "output_type": "execute_result"
    }
   ],
   "source": [
    "# torch version\n",
    "import torch\n",
    "\n",
    "data_torch = torch.Tensor(data)\n",
    "weight_torch = torch.Tensor(weight)\n",
    "conv_torch = torch.nn.functional.conv2d(data_torch, weight_torch)\n",
    "conv_torch = conv_torch.numpy().astype(np.int64)\n",
    "conv_torch"
   ]
  },
  {
   "cell_type": "code",
   "execution_count": 123,
   "id": "08745ca1",
   "metadata": {},
   "outputs": [
    {
     "data": {
      "text/plain": [
       "array([[[[ 474.,  510.,  546.,  582.,  618.,  654.],\n",
       "         [ 762.,  798.,  834.,  870.,  906.,  942.],\n",
       "         [1050., 1086., 1122., 1158., 1194., 1230.],\n",
       "         [1338., 1374., 1410., 1446., 1482., 1518.],\n",
       "         [1626., 1662., 1698., 1734., 1770., 1806.],\n",
       "         [1914., 1950., 1986., 2022., 2058., 2094.]],\n",
       "\n",
       "        [[1203., 1320., 1437., 1554., 1671., 1788.],\n",
       "         [2139., 2256., 2373., 2490., 2607., 2724.],\n",
       "         [3075., 3192., 3309., 3426., 3543., 3660.],\n",
       "         [4011., 4128., 4245., 4362., 4479., 4596.],\n",
       "         [4947., 5064., 5181., 5298., 5415., 5532.],\n",
       "         [5883., 6000., 6117., 6234., 6351., 6468.]]]])"
      ]
     },
     "execution_count": 123,
     "metadata": {},
     "output_type": "execute_result"
    }
   ],
   "source": [
    "# python version \n",
    "def lnumpy_conv(a_in: np.ndarray, b_in: np.ndarray, c_out: np.ndarray):\n",
    "    for b in range(1):\n",
    "        for k in range(2):\n",
    "            for i in range(6):\n",
    "                for j in range(6):\n",
    "                    for q in range(1):\n",
    "                        if q == 0:\n",
    "                            c_out[b, k, i, j] = 0\n",
    "                        for di in range(3):\n",
    "                            for dj in range(3):\n",
    "                                c_out[b,k,i,j] += a_in[b, q, i + di, j + dj] * b_in[k, q, di, dj]\n",
    "                                \n",
    "c_lnumpy_conv = np.zeros((1, 2, 6, 6))\n",
    "lnumpy_conv(data, weight, c_lnumpy_conv)\n",
    "c_lnumpy_conv"
   ]
  },
  {
   "cell_type": "code",
   "execution_count": 141,
   "id": "4e352335",
   "metadata": {},
   "outputs": [],
   "source": [
    "#请完成以下 IRModule MyConv 并运行代码以检查您的实现。\n",
    "@tvm.script.ir_module\n",
    "class MyConv:\n",
    "  @T.prim_func\n",
    "  def conv(A: T.Buffer[(1, 1, 8, 8), \"int64\"],\n",
    "           B: T.Buffer[(2, 1, 3, 3), \"int64\"],\n",
    "           C: T.Buffer[(1, 2, 6, 6), \"int64\"]):\n",
    "    T.func_attr({\"global_symbol\": \"conv\", \"tir.noalias\": True})\n",
    "    # TODO\n",
    "    # 不能是 b，只能是b_0, 避免和T.Buffer->B发生命名冲突\n",
    "    for b_0, k, i, j, q, di, dj in T.grid(1, 2, 6, 6, 1, 3, 3):\n",
    "        with T.block(\"C\"):\n",
    "            vb_0, vk, vi, vj, vq, vdi, vdj = T.axis.remap(\"SSSSRRR\",[b_0, k, i, j, q, di, dj])\n",
    "            with T.init():\n",
    "                C[vb_0, vk, vi, vj] = T.int64(0)\n",
    "            C[vb_0, vk, vi, vj] = C[vb_0, vk, vi, vj] + A[vb_0, vq, vi + vdi, vj + vdj] * B[vk, vb_0, vdi, vdj]    \n",
    "rt_lib = tvm.build(MyConv, target=\"llvm\")\n",
    "data_tvm = tvm.nd.array(data)\n",
    "weight_tvm = tvm.nd.array(weight)\n",
    "conv_tvm = tvm.nd.array(np.empty((N, CO, OUT_H, OUT_W), dtype=np.int64))\n",
    "rt_lib[\"conv\"](data_tvm, weight_tvm, conv_tvm)\n",
    "np.testing.assert_allclose(conv_tvm.numpy(), conv_torch, rtol=1e-5)"
   ]
  }
 ],
 "metadata": {
  "kernelspec": {
   "display_name": "Python 3 (ipykernel)",
   "language": "python",
   "name": "python3"
  },
  "language_info": {
   "codemirror_mode": {
    "name": "ipython",
    "version": 3
   },
   "file_extension": ".py",
   "mimetype": "text/x-python",
   "name": "python",
   "nbconvert_exporter": "python",
   "pygments_lexer": "ipython3",
   "version": "3.8.10"
  }
 },
 "nbformat": 4,
 "nbformat_minor": 5
}
